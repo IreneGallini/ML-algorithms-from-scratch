{
  "cells": [
    {
      "cell_type": "code",
      "execution_count": 2,
      "metadata": {
        "id": "fQwl8iF8U8O5"
      },
      "outputs": [],
      "source": [
        "import numpy as np\n",
        "import pandas as pd\n",
        "from sklearn.model_selection import train_test_split\n"
      ]
    },
    {
      "cell_type": "markdown",
      "metadata": {},
      "source": [
        "Dataset:\n",
        "- binary classification\n",
        "- each tumor is described by a number of features\n",
        "- target variable: malignant or benign"
      ]
    },
    {
      "cell_type": "code",
      "execution_count": null,
      "metadata": {},
      "outputs": [],
      "source": [
        "data=pd.read_csv(\"data (1).csv\")\n",
        "\n",
        "X = data.drop(columns=['id', 'diagnosis']) # Removing unused classes\n",
        "y=data['diagnosis'] # Diagnosis class labels\n",
        "\n",
        "# Split data in training set and testing set (80/20)\n",
        "X_train, X_test, y_train, y_test = train_test_split(X,y,test_size=0.2,random_state=42)"
      ]
    },
    {
      "cell_type": "code",
      "execution_count": null,
      "metadata": {},
      "outputs": [],
      "source": [
        "class NaiveBayes:\n",
        "    def fit(self,X_train,y_train): # Where we train the model\n",
        "        self.classes=np.unique(y_train) # Returns sorted array of separate class values (B and M)\n",
        "        # Loop over each class in self.classes\n",
        "        self.priors=[len(y_train[y_train==c])/len(y_train) for c in self.classes] # Probability y = class label y\n",
        "\n",
        "        self.means=[X_train[y_train==c].mean() for c in self.classes] # Output: list of panda series\n",
        "        self.stds=[X_train[y_train==c].std() for c in self.classes]\n",
        "    def compute_likelihood(self,row,class_idx): # Likelihood a row of input features belonds to a class\n",
        "        # Takes in one row\n",
        "        likelihood=1\n",
        "        for feature in row.index:\n",
        "            mean=self.means[class_idx][feature] # Mean for that class\n",
        "            std=self.stds[class_idx][feature] # Standard deviation for that class\n",
        "            likelihood *= (1 / (np.sqrt(2 * np.pi) * std)) * np.exp((-(row[feature] - mean)**2) / (2 * std**2)) # Assume eaxh feature is independent\n",
        "        return likelihood\n",
        "    def predict(self, X): # Take in examples and predict y\n",
        "        y_pred = []\n",
        "        for _, row in X.iterrows():\n",
        "            posteriors = []\n",
        "            for i in range(len(self.classes)):\n",
        "                likelihood = self.compute_likelihood(row, i)\n",
        "                posteriors.append(likelihood * self.priors[i])\n",
        "            \n",
        "            y_pred.append(self.classes[np.argmax(posteriors)])\n",
        "        \n",
        "        return np.array(y_pred)\n"
      ]
    },
    {
      "cell_type": "code",
      "execution_count": 16,
      "metadata": {},
      "outputs": [
        {
          "name": "stdout",
          "output_type": "stream",
          "text": [
            "Accuracy:62.28%\n"
          ]
        }
      ],
      "source": [
        "nb=NaiveBayes()\n",
        "nb.fit(X_train, y_train)\n",
        "\n",
        "predictions=nb.predict(X_test)\n",
        "accuracy = np.mean(predictions == y_test) * 100\n",
        "\n",
        "print(f\"Accuracy:{accuracy:.2f}%\")"
      ]
    },
    {
      "cell_type": "code",
      "execution_count": null,
      "metadata": {},
      "outputs": [],
      "source": []
    }
  ],
  "metadata": {
    "colab": {
      "provenance": []
    },
    "kernelspec": {
      "display_name": "Python 3",
      "name": "python3"
    },
    "language_info": {
      "codemirror_mode": {
        "name": "ipython",
        "version": 3
      },
      "file_extension": ".py",
      "mimetype": "text/x-python",
      "name": "python",
      "nbconvert_exporter": "python",
      "pygments_lexer": "ipython3",
      "version": "3.9.6"
    }
  },
  "nbformat": 4,
  "nbformat_minor": 0
}
