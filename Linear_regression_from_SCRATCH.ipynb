{
  "nbformat": 4,
  "nbformat_minor": 0,
  "metadata": {
    "colab": {
      "provenance": [],
      "authorship_tag": "ABX9TyM/z1YSHgnt5TnIlziolYP8",
      "include_colab_link": true
    },
    "kernelspec": {
      "name": "python3",
      "display_name": "Python 3"
    },
    "language_info": {
      "name": "python"
    }
  },
  "cells": [
    {
      "cell_type": "markdown",
      "metadata": {
        "id": "view-in-github",
        "colab_type": "text"
      },
      "source": [
        "<a href=\"https://colab.research.google.com/github/IreneGallini/ML-algorithms-from-scratch/blob/main/Linear_regression_from_SCRATCH.ipynb\" target=\"_parent\"><img src=\"https://colab.research.google.com/assets/colab-badge.svg\" alt=\"Open In Colab\"/></a>"
      ]
    },
    {
      "cell_type": "markdown",
      "source": [
        "\n",
        "Import necessary libraries"
      ],
      "metadata": {
        "id": "276OV1oRdZ7I"
      }
    },
    {
      "cell_type": "code",
      "execution_count": null,
      "metadata": {
        "id": "tfqc5mfJaKJK"
      },
      "outputs": [],
      "source": [
        "import numpy as np\n",
        "import pandas as pd\n",
        "import matplotlib.pyplot as plt\n"
      ]
    },
    {
      "cell_type": "markdown",
      "source": [
        "Load in dataset to train our model"
      ],
      "metadata": {
        "id": "PiZfu4TudwXm"
      }
    },
    {
      "cell_type": "code",
      "source": [],
      "metadata": {
        "id": "x_CJ_8ShadCB"
      },
      "execution_count": null,
      "outputs": []
    }
  ]
}