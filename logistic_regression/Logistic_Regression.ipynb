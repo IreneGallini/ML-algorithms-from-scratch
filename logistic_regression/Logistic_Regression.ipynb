{
  "cells": [
    {
      "cell_type": "markdown",
      "metadata": {
        "colab_type": "text",
        "id": "view-in-github"
      },
      "source": [
        "<a href=\"https://colab.research.google.com/github/IreneGallini/ML-algorithms-from-scratch/blob/main/logistic_regression/Logistic_Regression.ipynb\" target=\"_parent\"><img src=\"https://colab.research.google.com/assets/colab-badge.svg\" alt=\"Open In Colab\"/></a>"
      ]
    },
    {
      "cell_type": "markdown",
      "metadata": {},
      "source": [
        "Goal of linear regression \n",
        "Binary classification\n",
        "Target variable and predictions are categories\n",
        "Predict which class a set of inputs belongs to\n",
        "1) Linear combination\n",
        "2) Sigmoid/logistic function\n",
        "3) Cost function: piecewise loss function\n",
        "4) Gradient descent\n",
        "\n",
        "Decision boundary spilts input space into two regions"
      ]
    },
    {
      "cell_type": "code",
      "execution_count": null,
      "metadata": {},
      "outputs": [],
      "source": [
        "import numpy as np\n",
        "import pandas as pd \n",
        "import mathplotlib.pylot as plt"
      ]
    },
    {
      "cell_type": "code",
      "execution_count": null,
      "metadata": {},
      "outputs": [],
      "source": []
    }
  ],
  "metadata": {
    "colab": {
      "authorship_tag": "ABX9TyMLefsRacUbmWrL4YgdeGMr",
      "include_colab_link": true,
      "provenance": []
    },
    "kernelspec": {
      "display_name": "Python 3",
      "name": "python3"
    },
    "language_info": {
      "name": "python"
    }
  },
  "nbformat": 4,
  "nbformat_minor": 0
}
